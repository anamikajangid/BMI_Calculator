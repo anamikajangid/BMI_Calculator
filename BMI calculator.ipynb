{
 "cells": [
  {
   "cell_type": "code",
   "execution_count": 2,
   "id": "d5582da3",
   "metadata": {},
   "outputs": [
    {
     "name": "stdout",
     "output_type": "stream",
     "text": [
      "Enter your height in centimeter: 180\n",
      "Enter your weight in kg :60\n",
      "your body mass index is  18.51851851851852\n",
      "you are healthy\n"
     ]
    }
   ],
   "source": [
    "height = float(input(\"Enter your height in centimeter: \"))\n",
    "weight = float(input(\"Enter your weight in kg :\"))\n",
    "height = height/100\n",
    "BMI = weight/(height*height)\n",
    "print(\"your body mass index is \", BMI)\n",
    "\n",
    "if(BMI>0):\n",
    "    if(BMI <= 16):\n",
    "        print(\"You are severely underweight \")\n",
    "    elif(BMI <= 18.5):\n",
    "        print(\"you are underweight\")\n",
    "    elif(BMI <=25):\n",
    "        print(\"you are healthy\")\n",
    "    elif(BMI <= 30):\n",
    "        print(\"you are over weight\")\n",
    "    else:\n",
    "        print(\"you are severely over weight\")\n",
    "        \n",
    "else:\n",
    "    print(\"enter valid details\")\n",
    "    "
   ]
  },
  {
   "cell_type": "code",
   "execution_count": null,
   "id": "1af79cbe",
   "metadata": {},
   "outputs": [],
   "source": []
  }
 ],
 "metadata": {
  "kernelspec": {
   "display_name": "Python 3 (ipykernel)",
   "language": "python",
   "name": "python3"
  },
  "language_info": {
   "codemirror_mode": {
    "name": "ipython",
    "version": 3
   },
   "file_extension": ".py",
   "mimetype": "text/x-python",
   "name": "python",
   "nbconvert_exporter": "python",
   "pygments_lexer": "ipython3",
   "version": "3.11.5"
  }
 },
 "nbformat": 4,
 "nbformat_minor": 5
}
